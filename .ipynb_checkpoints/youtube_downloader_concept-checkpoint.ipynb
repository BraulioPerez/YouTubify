{
 "cells": [
  {
   "cell_type": "markdown",
   "id": "edf7a649-4803-45a8-a524-18a166fcafbb",
   "metadata": {},
   "source": [
    "# VIDEO DOWNLOADER CONCEPT CODE"
   ]
  },
  {
   "cell_type": "markdown",
   "id": "e3b2d4ac-7117-4b4f-a308-14dc26a90e04",
   "metadata": {},
   "source": [
    "## Objective\n",
    "This project aims to create a simple, usable video downloader with an interface to make it user friendly, this makes my "
   ]
  },
  {
   "cell_type": "code",
   "execution_count": 1,
   "id": "37e0ecec-9088-4cd0-b508-086fc856e929",
   "metadata": {},
   "outputs": [],
   "source": [
    "#Libraries needed for the project\n",
    "from pytube import YouTube\n",
    "import tkinter as tk\n",
    "from tkinter import filedialog"
   ]
  },
  {
   "cell_type": "code",
   "execution_count": 2,
   "id": "e8f2ce1c-0ef1-452c-8a27-97219497401b",
   "metadata": {},
   "outputs": [],
   "source": [
    "#Function to download video\n",
    "def download_video(url, download_folder):\n",
    "    try:\n",
    "        yt_video = YouTube(url)\n",
    "        qualities = yt_video.streams.filter(progressive=True, file_extension=\"mp4\")\n",
    "        highest_quality = qualities.get_highest_resolution()\n",
    "        highest_quality.download(output_path=download_folder)\n",
    "        print(\"Video downloaded\")\n",
    "    except Exception as e:\n",
    "        print(e)\n",
    "\n",
    "def open_file_dialog():\n",
    "    folder = filedialog.askdirectory()\n",
    "    if folder:\n",
    "        print(f\"Selected folder: {folder}\")\n",
    "        return folder\n",
    "\n",
    "    else:\n",
    "        return None"
   ]
  },
  {
   "cell_type": "code",
   "execution_count": null,
   "id": "39fa6cd0-69fa-4c88-bfcb-24eb3a73f823",
   "metadata": {},
   "outputs": [
    {
     "name": "stdin",
     "output_type": "stream",
     "text": [
      "Please enter a url https://www.youtube.com/watch?v=BACEYYHT8Tc&ab_channel=10SecondsMovies\n"
     ]
    }
   ],
   "source": [
    "if __name__ ==\"__main__\":\n",
    "    root=tk.Tk()\n",
    "    root.withdraw()\n",
    "\n",
    "    video_url = input(\"Please enter a url\")\n",
    "    save_dir = open_file_dialog()\n",
    "\n",
    "    if save_dir:\n",
    "        print(\"Started download...\")\n",
    "        download_video(video_url, save_dir)\n",
    "    else:\n",
    "        print(\"Invalid save location\")\n"
   ]
  },
  {
   "cell_type": "code",
   "execution_count": null,
   "id": "e7b03197-c681-4e37-a90d-57f7b87ca9cc",
   "metadata": {},
   "outputs": [],
   "source": []
  }
 ],
 "metadata": {
  "kernelspec": {
   "display_name": "Python 3 (ipykernel)",
   "language": "python",
   "name": "python3"
  },
  "language_info": {
   "codemirror_mode": {
    "name": "ipython",
    "version": 3
   },
   "file_extension": ".py",
   "mimetype": "text/x-python",
   "name": "python",
   "nbconvert_exporter": "python",
   "pygments_lexer": "ipython3",
   "version": "3.11.5"
  }
 },
 "nbformat": 4,
 "nbformat_minor": 5
}
